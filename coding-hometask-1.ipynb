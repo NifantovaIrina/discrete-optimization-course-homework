{
 "cells": [
  {
   "cell_type": "markdown",
   "metadata": {},
   "source": [
    "# Задание по курсу «Дискретная оптимизация», МФТИ, весна 2017"
   ]
  },
  {
   "cell_type": "markdown",
   "metadata": {},
   "source": [
    "## Задача 1-1\n",
    "Предполагается, что функция `solve_bp_decision(weights, n_bins)` решает «распознавательный» (decision) вариант задачи bin packing. На вход ей подаётся список весов и число корзин. Функция возвращает булевский ответ на вопрос «можно ли заданные веса раскидать по не более чем `n_bins` контейнерам? Напишите содержимое функции `solve_bp_evaluation`, которая возвращает оптимальное число корзин (решает evaluation variant задачи bin packing) и затем содержимое функции `solve_bp_search`, которая возвращает список номеров корзин, которые при каком-нибудь оптимальном распределении присваиваются весам из списка `weights` (корзины нумеруются с единицы). Каждая из следующих функций должна вызывать предыдущую не более чем полиномиальное число раз."
   ]
  },
  {
   "cell_type": "code",
   "execution_count": 27,
   "metadata": {
    "collapsed": true
   },
   "outputs": [],
   "source": [
    "import numpy as np\n",
    "import itertools "
   ]
  },
  {
   "cell_type": "code",
   "execution_count": 68,
   "metadata": {
    "collapsed": false
   },
   "outputs": [
    {
     "name": "stdout",
     "output_type": "stream",
     "text": [
      "[1, 1, 2, 1, 1, 2]\n"
     ]
    }
   ],
   "source": [
    "def solve_bp_decision(weights, n_bins, numbers):\n",
    "    per = itertools.permutations(weights, len(weights))\n",
    "    pos = list(itertools.permutations(np.arange(len(weights)), len(weights)))\n",
    "    position = 0\n",
    "    for w in per:\n",
    "        count = 1\n",
    "        curr_weight = 0\n",
    "        for j in range(len(w)):\n",
    "            if (w[j] + curr_weight <= 1):\n",
    "                curr_weight += w[j]\n",
    "            else:\n",
    "                curr_weight = w[j]\n",
    "                count += 1\n",
    "            numbers[pos[position][j]] = count\n",
    "        if (count <= n_bins):\n",
    "            return 1\n",
    "        position += 1\n",
    "    return 0\n",
    "\n",
    "def solve_bp_evaluation(weights, numbers):\n",
    "    for i in range(1, len(weights)):\n",
    "        if (solve_bp_decision(weights, i, numbers)):\n",
    "            return i\n",
    "\n",
    "def solve_bp_search(weights):\n",
    "    numbers = np.zeros(len(weights), int)\n",
    "    solve_bp_evaluation(weights, numbers)\n",
    "    return list(numbers)\n",
    "print(solve_bp_search([0.1, 0.2, 0.9, 0.5, 0.1, 0.1]))"
   ]
  }
 ],
 "metadata": {
  "anaconda-cloud": {},
  "kernelspec": {
   "display_name": "Python [default]",
   "language": "python",
   "name": "python3"
  },
  "language_info": {
   "codemirror_mode": {
    "name": "ipython",
    "version": 3
   },
   "file_extension": ".py",
   "mimetype": "text/x-python",
   "name": "python",
   "nbconvert_exporter": "python",
   "pygments_lexer": "ipython3",
   "version": "3.5.2"
  }
 },
 "nbformat": 4,
 "nbformat_minor": 2
}
