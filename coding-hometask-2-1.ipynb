{
 "cells": [
  {
   "cell_type": "markdown",
   "metadata": {},
   "source": [
    "# Задание по курсу «Дискретная оптимизация», МФТИ, весна 2017"
   ]
  },
  {
   "cell_type": "markdown",
   "metadata": {},
   "source": [
    "## Задача 2-1. Применяем простейший локальный поиск.\n",
    "\n",
    "В этой задаче Вам предлагается попробовать стандартную технику локального поиска (local search) в применении к задаче о сбалансированном разбиении графа. Мы будем рассматривать безвесовый вариант задачи с параметром балансировки $\\alpha=\\frac{1}{2}$:\n",
    "\n",
    "**Даны:**\n",
    "* $G=(V,E)$ — граф без весов на рёбрах\n",
    "\n",
    "**Найти:**\n",
    "* Разбиение $V=V'\\sqcup V''$, такое, что $V'=\\lfloor |V|/2 \\rfloor$ и число рёбер между $V'$ и $V''$ минимально возможное.\n",
    "\n",
    "Сделайте следующее:\n",
    "* [Скачайте](http://mat.gsia.cmu.edu/COLOR/instances.html#XXMYC) файлы mycielX.col  (`for X in range(1,8)`).  (Если интересно, откуда такие графы берутся и чем интересны, см. конструкцию Зыкова—Мыцельского [здесь](https://docs.com/dainiak/3327).)\n",
    "* Для каждого из графов найдите локальным поиском локально минимальное (по количеству рёбер между частями) разбиение вершин графа на две части, мощности которых отличаются не более чем на единицу. \n",
    "* Ваша функция `basic_local_search` должна принимать на вход граф в формате, предоставляемом функцией `read_col_file`, и возвращать найденное локально минимальное разбиение просто как множество либо список вершин, лежащих в одной любой из двух компонент разбиения."
   ]
  },
  {
   "cell_type": "code",
   "execution_count": 44,
   "metadata": {
    "collapsed": true
   },
   "outputs": [],
   "source": [
    "import numpy as np"
   ]
  },
  {
   "cell_type": "code",
   "execution_count": 46,
   "metadata": {
    "collapsed": true
   },
   "outputs": [],
   "source": [
    "def read_col_file(filename):\n",
    "    with open(filename, 'r') as file:\n",
    "        vertices, edges = set(), set()\n",
    "        for line in file:\n",
    "            line = line.strip()\n",
    "            if line.startswith('p'):\n",
    "                vertices = set(range(1, int(line.split()[-2]) + 1))\n",
    "            elif line.startswith('e'):\n",
    "                edges.add(tuple(map(int, line.split()[-2:])))\n",
    "        return (vertices, edges)"
   ]
  },
  {
   "cell_type": "code",
   "execution_count": 81,
   "metadata": {
    "collapsed": true
   },
   "outputs": [],
   "source": [
    "def num_of_crossing_edges(arr, graph):\n",
    "    counter = 0\n",
    "    for it in graph[1]:\n",
    "        if (arr[it[0] - 1] != arr[it[1] - 1]):\n",
    "            counter += 1\n",
    "    return counter \n",
    "\n",
    "def check_ans(division, graph):\n",
    "    ans = num_of_crossing_edges(division, graph)\n",
    "    print(\"Answer:{}\".format(ans))\n",
    "    for i in range(10):\n",
    "        np.random.shuffle(division)\n",
    "        rand = num_of_crossing_edges(division, graph)\n",
    "        print(\"Random answer:{}\".format(rand))"
   ]
  },
  {
   "cell_type": "code",
   "execution_count": 66,
   "metadata": {
    "collapsed": false
   },
   "outputs": [],
   "source": [
    "  def basic_local_search(graph):\n",
    "    division = np.zeros(len(graph[0]), dtype=int)\n",
    "    division[:int(len(graph[0]) / 2)] = 1\n",
    "    not_stop = True\n",
    "    changed = division\n",
    "    minim = num_of_crossing_edges(division, graph)\n",
    "    while (not_stop):\n",
    "        not_stop = False\n",
    "        for i in range(len(division)):\n",
    "            for j in range(i, len(division)):\n",
    "                if (division[i] != division[j]):\n",
    "                    division[i] = 1 - division[i]\n",
    "                    division[j] = 1 - division[j]\n",
    "                    temp = num_of_crossing_edges(division, graph)\n",
    "                    if (temp < minim):\n",
    "                        minim = temp\n",
    "                        changed = np.copy(division)\n",
    "                        not_stop = True\n",
    "                    division[i] = 1 - division[i]\n",
    "                    division[j] = 1 - division[j]\n",
    "        division = np.copy(changed)\n",
    "    check_ans(division, graph)\n",
    "    return division"
   ]
  },
  {
   "cell_type": "code",
   "execution_count": 85,
   "metadata": {
    "collapsed": false
   },
   "outputs": [
    {
     "name": "stdout",
     "output_type": "stream",
     "text": [
      "Answer:293\n",
      "Random answer:390\n",
      "Random answer:384\n",
      "Random answer:370\n",
      "Random answer:374\n",
      "Random answer:364\n",
      "Random answer:371\n",
      "Random answer:379\n",
      "Random answer:372\n",
      "Random answer:392\n",
      "Random answer:386\n",
      "[1 1 1 1 1 0 1 0 0 0 1 1 0 1 1 1 0 0 0 0 0 1 0 1 1 0 1 0 0 0 1 0 1 0 1 0 1\n",
      " 1 0 1 0 1 1 0 1 0 0 0 0 1 0 1 1 0 0 1 0 0 0 1 0 0 0 0 1 0 0 1 1 0 1 1 1 1\n",
      " 1 0 1 0 1 0 0 0 1 1 1 1 1 1 0 1 1 0 0 0 0]\n"
     ]
    }
   ],
   "source": [
    "res = basic_local_search(read_col_file(\"myciel3.col\"))\n",
    "print(res)"
   ]
  }
 ],
 "metadata": {
  "anaconda-cloud": {},
  "kernelspec": {
   "display_name": "Python [default]",
   "language": "python",
   "name": "python3"
  },
  "language_info": {
   "codemirror_mode": {
    "name": "ipython",
    "version": 3
   },
   "file_extension": ".py",
   "mimetype": "text/x-python",
   "name": "python",
   "nbconvert_exporter": "python",
   "pygments_lexer": "ipython3",
   "version": "3.5.2"
  }
 },
 "nbformat": 4,
 "nbformat_minor": 2
}
