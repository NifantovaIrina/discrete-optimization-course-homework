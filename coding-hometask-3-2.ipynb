{
 "cells": [
  {
   "cell_type": "markdown",
   "metadata": {
    "collapsed": true
   },
   "source": [
    "## Задача 3-2. Задача TSP: нижняя оценка Гельда—Карпа.\n",
    "\n",
    "В этой задаче Вам предлагается релизовать алгоритм Гельда—Карпа для нижней оценки стоимости решения в задаче Euclidean TSP.\n",
    "\n",
    "Сделайте следующее:\n",
    "* Скачайте файл [`tsp-instances.zip`](https://github.com/dainiak/discrete-optimization-course/raw/master/tsp-instances.zip) и разархивируйте из него файлы со входами задачи TSP. Это в точности те же входные данные, что и в задании 3-1.\n",
    "* Реализуйте функцию `lower_bound_tsp`. При этом можно пользоваться каким-нибудь стандартным алгоритмом построения минимального остовного дерева из библиотеки [`networkx`](https://networkx.github.io/), входящей в состав дистрибутива Anaconda.\n",
    "* Запустите функцию `run_all()`, чтобы протестировать свой код, и напишите полученные, как следствия, верхние оценки погрешностей решений, которые были получены Вашими алгоритмами NN и NI при решении задания 3-1. Запишите свои выводы в 1-2 предложениях в последней ячейке ipynb-файла."
   ]
  },
  {
   "cell_type": "code",
   "execution_count": 1,
   "metadata": {
    "collapsed": true
   },
   "outputs": [],
   "source": [
    "from typing import List, Tuple\n",
    "from math import sqrt\n",
    "from itertools import combinations, islice\n",
    "import numpy as np\n",
    "import time\n",
    "from os.path import exists\n",
    "import networkx as nx"
   ]
  },
  {
   "cell_type": "code",
   "execution_count": 2,
   "metadata": {
    "collapsed": true
   },
   "outputs": [],
   "source": [
    "def read_tsp_instance(filename: str) -> List[Tuple[int,int]]:\n",
    "    with open(filename, 'r') as file:\n",
    "        coordinates = []\n",
    "        for line in file:\n",
    "            line = line.strip().lower()\n",
    "            if line.startswith('dimension'):\n",
    "                coordinates = [(0, 0)] * int(line.split()[-1])\n",
    "            tokens = line.split()\n",
    "            if len(tokens) == 3 and tokens[0].isdecimal():\n",
    "                tokens = line.split()\n",
    "                coordinates[int(tokens[0])-1] = tuple(map(float, tokens[1:]))\n",
    "        return coordinates\n",
    "\n",
    "\n",
    "def euclidean_distance(point1: Tuple[int,int], point2: Tuple[int,int]) -> float:\n",
    "    return sqrt((point1[0]-point2[0]) ** 2 + (point1[1]-point2[1]) ** 2)"
   ]
  },
  {
   "cell_type": "code",
   "execution_count": 63,
   "metadata": {
    "collapsed": false
   },
   "outputs": [],
   "source": [
    "def lower_bound_tsp(vertex_coordinates: List[Tuple[int,int]]) -> float:\n",
    "    # Replace this trivial lower bound with Held—Karp:\n",
    "    #return sum(islice(\n",
    "    #    sorted(euclidean_distance(a, b) for a, b in combinations(vertex_coordinates, 2)), \n",
    "\n",
    "    # Не добавляем ребра из нулевой вершины в граф G\n",
    "    G = nx.Graph()\n",
    "    for i in range(1, len(vertex_coordinates)):\n",
    "        for j in range(1, len(vertex_coordinates)):\n",
    "            G.add_edge(i, j, \n",
    "                       weight=euclidean_distance(vertex_coordinates[i], vertex_coordinates[j]))\n",
    "    T = nx.minimum_spanning_tree(G)\n",
    "    for iter in range(10, 20):\n",
    "        weights = np.zeros_like(G.nodes())\n",
    "        for node in G.nodes():\n",
    "            weights[node - 1] = 1/(iter ** 10) * (2 - G.degree(node)) \n",
    "        for i in range(1, len(vertex_coordinates)):\n",
    "            for j in range(1, len(vertex_coordinates)):\n",
    "                G[i][j]['weight'] -= weights[i - 1] + weights[j - 1]\n",
    "        T = nx.minimum_spanning_tree(G)\n",
    "    \n",
    "    min1 = G[1][2]['weight']\n",
    "    min2 = G[1][2]['weight']\n",
    "    for node in G.nodes():\n",
    "        if G[1][node]['weight'] < min1:\n",
    "            min1 = G[1][node]['weight']\n",
    "        elif G[1][node]['weight'] < min2:\n",
    "            min2 = G[1][node]['weight']\n",
    "    ans = min1 + min2\n",
    "    for node_from in T.nodes():\n",
    "        for node_to in T.nodes():\n",
    "            ans += G[node_from][node_to]['weight']\n",
    "    return ans"
   ]
  },
  {
   "cell_type": "code",
   "execution_count": 64,
   "metadata": {
    "collapsed": true
   },
   "outputs": [],
   "source": [
    "def run_all():\n",
    "    instance_filenames = ['pr107.tsp', 'pr152.tsp', 'd198.tsp', 'pr439.tsp', 'd493.tsp', 'd657.tsp', 'd2103.tsp']\n",
    "    for filename in instance_filenames:\n",
    "        if not exists(filename):\n",
    "            print('File not found: “{}”. Skipping this instance.'.format(filename))\n",
    "            continue\n",
    "        instance = read_tsp_instance(filename)\n",
    "        print('Instance {}…'.format(filename), end='')\n",
    "        time_start = time.monotonic()\n",
    "        bound = lower_bound_tsp(instance)\n",
    "        time_nn = time.monotonic()-time_start\n",
    "        print(' done in {:.2} seconds with lower bound {}'.format(time_nn, int(bound)))"
   ]
  },
  {
   "cell_type": "code",
   "execution_count": null,
   "metadata": {
    "collapsed": false
   },
   "outputs": [
    {
     "name": "stdout",
     "output_type": "stream",
     "text": [
      "Instance pr107.tsp… done in 1.8 seconds with lower bound 60012247\n",
      "Instance pr152.tsp… done in 3.7 seconds with lower bound 155975883\n",
      "Instance d198.tsp… done in 6.3 seconds with lower bound 36583613\n",
      "Instance pr439.tsp… done in 4.3e+01 seconds with lower bound 829427222\n",
      "Instance d493.tsp… done in 5.9e+01 seconds with lower bound 217874531\n",
      "Instance d657.tsp…"
     ]
    }
   ],
   "source": [
    "run_all()"
   ]
  },
  {
   "cell_type": "markdown",
   "metadata": {},
   "source": [
    "## Выводы\n",
    "Для d198.tsp длина цикла, найденного алгоритмом Nearest Neighbour составляла 18266, Nearest Insertion - 17722, а длина, которую дает нижняя оценка Хельда-Карпа - 36583613, что не очень хорошо, ведь это нижняя оценка, то есть она не больше реального ответа и не меньше, чем $\\frac{2}{3} * len(tour)$. Значит, алгоритмы NN и NI дают очень большую погрешность (величины отличаются на несколько порядков) "
   ]
  }
 ],
 "metadata": {
  "anaconda-cloud": {},
  "kernelspec": {
   "display_name": "Python [default]",
   "language": "python",
   "name": "python3"
  },
  "language_info": {
   "codemirror_mode": {
    "name": "ipython",
    "version": 3
   },
   "file_extension": ".py",
   "mimetype": "text/x-python",
   "name": "python",
   "nbconvert_exporter": "python",
   "pygments_lexer": "ipython3",
   "version": "3.5.2"
  }
 },
 "nbformat": 4,
 "nbformat_minor": 1
}
